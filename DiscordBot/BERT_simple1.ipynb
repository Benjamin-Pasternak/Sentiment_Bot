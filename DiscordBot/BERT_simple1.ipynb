{
 "cells": [
  {
   "cell_type": "code",
   "execution_count": 16,
   "id": "c7aa663e",
   "metadata": {},
   "outputs": [],
   "source": [
    "import tensorflow as tf \n",
    "import numpy as np\n",
    "import pandas as pd \n",
    "import os \n",
    "from transformers import DistilBertTokenizerFast\n",
    "from transformers import TFDistilBertForSequenceClassification\n",
    "#!pip3 install tensorflow_datasets\n",
    "import tensorflow_datasets as tfds"
   ]
  },
  {
   "cell_type": "code",
   "execution_count": 17,
   "id": "839c80d6",
   "metadata": {},
   "outputs": [],
   "source": [
    "# for dirname, _, filenames in os.walk('./data/kaggle_tutorial/'):\n",
    "#     for filename in filenames:\n",
    "#         print(os.path.join(dirname, filename))"
   ]
  },
  {
   "cell_type": "code",
   "execution_count": 18,
   "id": "3f953c94",
   "metadata": {},
   "outputs": [
    {
     "name": "stdout",
     "output_type": "stream",
     "text": [
      "val.txt\n",
      "(2000, 2)\n",
      "test.txt\n",
      "(2000, 2)\n",
      "train.txt\n",
      "(16000, 2)\n",
      "\n",
      "(29899, 2)\n",
      "(20000, 2)\n",
      "          sentence\n",
      "label             \n",
      "anger         4412\n",
      "fear          4492\n",
      "joy          11945\n",
      "love          5428\n",
      "sadness      12285\n",
      "surprise      2902\n",
      "worry         8435\n"
     ]
    },
    {
     "data": {
      "text/html": [
       "<div>\n",
       "<style scoped>\n",
       "    .dataframe tbody tr th:only-of-type {\n",
       "        vertical-align: middle;\n",
       "    }\n",
       "\n",
       "    .dataframe tbody tr th {\n",
       "        vertical-align: top;\n",
       "    }\n",
       "\n",
       "    .dataframe thead th {\n",
       "        text-align: right;\n",
       "    }\n",
       "</style>\n",
       "<table border=\"1\" class=\"dataframe\">\n",
       "  <thead>\n",
       "    <tr style=\"text-align: right;\">\n",
       "      <th></th>\n",
       "      <th>sentence</th>\n",
       "      <th>label</th>\n",
       "    </tr>\n",
       "  </thead>\n",
       "  <tbody>\n",
       "    <tr>\n",
       "      <th>0</th>\n",
       "      <td>wah....American Chocolate Cheese Cake for my c...</td>\n",
       "      <td>joy</td>\n",
       "    </tr>\n",
       "    <tr>\n",
       "      <th>1</th>\n",
       "      <td>i am less sensitive and my feelings are less e...</td>\n",
       "      <td>sadness</td>\n",
       "    </tr>\n",
       "    <tr>\n",
       "      <th>2</th>\n",
       "      <td>i wish i had friends i could spend the night with</td>\n",
       "      <td>worry</td>\n",
       "    </tr>\n",
       "    <tr>\n",
       "      <th>3</th>\n",
       "      <td>I know I have lots of emails to answer! I will...</td>\n",
       "      <td>worry</td>\n",
       "    </tr>\n",
       "    <tr>\n",
       "      <th>4</th>\n",
       "      <td>trying to find some friends and not having any...</td>\n",
       "      <td>worry</td>\n",
       "    </tr>\n",
       "  </tbody>\n",
       "</table>\n",
       "</div>"
      ],
      "text/plain": [
       "                                            sentence    label\n",
       "0  wah....American Chocolate Cheese Cake for my c...      joy\n",
       "1  i am less sensitive and my feelings are less e...  sadness\n",
       "2  i wish i had friends i could spend the night with    worry\n",
       "3  I know I have lots of emails to answer! I will...    worry\n",
       "4  trying to find some friends and not having any...    worry"
      ]
     },
     "execution_count": 18,
     "metadata": {},
     "output_type": "execute_result"
    }
   ],
   "source": [
    "dataframes = [] \n",
    "folder_path = './data/kaggle_tutorial/'\n",
    "for file in os.listdir(folder_path): \n",
    "    df2 = pd.read_csv(f'{folder_path}{file}', delimiter=';', header=None, names=['sentence', 'label'])\n",
    "    if df2.shape[0] > 1000 and file != 'tweets.csv':\n",
    "        print(file)\n",
    "        print(df2.shape)\n",
    "        dataframes.append(df2)\n",
    "df2 = pd.concat(dataframes, axis=0)\n",
    "\n",
    "\n",
    "df1 = pd.read_csv('./data/kaggle_tutorial/tweets.csv')\n",
    "df1.drop(df1.columns[df1.columns.str.contains('unnamed',case = False)],axis = 1, inplace = True)\n",
    "df1 = df1.dropna()\n",
    "print()\n",
    "print(df1.shape)\n",
    "print(df2.shape)\n",
    "\n",
    "df = pd.concat([df2, df1], axis=0)\n",
    "df = df.sample(frac=1).reset_index(drop=True)\n",
    "print(df.groupby('label').count())\n",
    "df.head()\n",
    "\n",
    "# now drop about 5000 from joy and sadness to ballance out the classes "
   ]
  },
  {
   "cell_type": "code",
   "execution_count": 19,
   "id": "0558e830",
   "metadata": {},
   "outputs": [
    {
     "name": "stdout",
     "output_type": "stream",
     "text": [
      "          sentence\n",
      "label             \n",
      "anger         4412\n",
      "fear          4492\n",
      "joy           6445\n",
      "love          5428\n",
      "sadness       6785\n",
      "surprise      2902\n",
      "worry         8435\n"
     ]
    }
   ],
   "source": [
    "\"\"\" I'm ballancing the classes here (roughly) hopefully to improve performance \"\"\"\n",
    "do_nothing_to = ['love', 'anger', 'fear', 'surprise', 'worry']\n",
    "drop_last_5000_from = ['joy', 'sadness']\n",
    "dfa = df[df['label']=='love']\n",
    "dfb = df[df['label']=='anger']\n",
    "dfc = df[df['label']=='fear']\n",
    "dfd = df[df['label']=='surprise']\n",
    "dfe = df[df['label']=='worry']\n",
    "\n",
    "dff = df[df['label']=='joy']\n",
    "dff = dff.sample(frac=1).reset_index(drop=True)\n",
    "dff.drop(dff.tail(5500).index, inplace=True)\n",
    "dfg = df[df['label']=='sadness']\n",
    "dfg = dfg.sample(frac=1).reset_index(drop=True)\n",
    "dfg.drop(dfg.tail(5500).index, inplace=True)\n",
    "\n",
    "df = pd.concat([dfa,dfb,dfc,dfd,dfe,dff,dfg], axis=0)\n",
    "df = df.sample(frac=1).reset_index(drop=True)\n",
    "\n",
    "print(df.groupby('label').count())"
   ]
  },
  {
   "cell_type": "code",
   "execution_count": 20,
   "id": "e6f6b643",
   "metadata": {},
   "outputs": [
    {
     "data": {
      "text/html": [
       "<div>\n",
       "<style scoped>\n",
       "    .dataframe tbody tr th:only-of-type {\n",
       "        vertical-align: middle;\n",
       "    }\n",
       "\n",
       "    .dataframe tbody tr th {\n",
       "        vertical-align: top;\n",
       "    }\n",
       "\n",
       "    .dataframe thead th {\n",
       "        text-align: right;\n",
       "    }\n",
       "</style>\n",
       "<table border=\"1\" class=\"dataframe\">\n",
       "  <thead>\n",
       "    <tr style=\"text-align: right;\">\n",
       "      <th></th>\n",
       "      <th>sentence</th>\n",
       "      <th>label</th>\n",
       "      <th>label_enc</th>\n",
       "    </tr>\n",
       "  </thead>\n",
       "  <tbody>\n",
       "    <tr>\n",
       "      <th>0</th>\n",
       "      <td>- New forest hoping the walk would lose me som...</td>\n",
       "      <td>worry</td>\n",
       "      <td>6</td>\n",
       "    </tr>\n",
       "    <tr>\n",
       "      <th>1</th>\n",
       "      <td>youre not supposed to...</td>\n",
       "      <td>worry</td>\n",
       "      <td>6</td>\n",
       "    </tr>\n",
       "    <tr>\n",
       "      <th>2</th>\n",
       "      <td>I don't wanna go to work</td>\n",
       "      <td>sadness</td>\n",
       "      <td>4</td>\n",
       "    </tr>\n",
       "    <tr>\n",
       "      <th>3</th>\n",
       "      <td>i dont really have any details to share but i ...</td>\n",
       "      <td>joy</td>\n",
       "      <td>2</td>\n",
       "    </tr>\n",
       "    <tr>\n",
       "      <th>4</th>\n",
       "      <td>JB on the front of factor x!!!!! wooh contest ...</td>\n",
       "      <td>worry</td>\n",
       "      <td>6</td>\n",
       "    </tr>\n",
       "  </tbody>\n",
       "</table>\n",
       "</div>"
      ],
      "text/plain": [
       "                                            sentence    label  label_enc\n",
       "0  - New forest hoping the walk would lose me som...    worry          6\n",
       "1                           youre not supposed to...    worry          6\n",
       "2                           I don't wanna go to work  sadness          4\n",
       "3  i dont really have any details to share but i ...      joy          2\n",
       "4  JB on the front of factor x!!!!! wooh contest ...    worry          6"
      ]
     },
     "execution_count": 20,
     "metadata": {},
     "output_type": "execute_result"
    }
   ],
   "source": [
    "from sklearn.preprocessing import LabelEncoder\n",
    "# this is an important preprocessing step to make computer better at interpreting data \n",
    "labelencoder = LabelEncoder()\n",
    "df['label_enc'] = labelencoder.fit_transform(df['label'])\n",
    "df.head()"
   ]
  },
  {
   "cell_type": "code",
   "execution_count": 21,
   "id": "ea1346c1",
   "metadata": {},
   "outputs": [
    {
     "data": {
      "text/html": [
       "<div>\n",
       "<style scoped>\n",
       "    .dataframe tbody tr th:only-of-type {\n",
       "        vertical-align: middle;\n",
       "    }\n",
       "\n",
       "    .dataframe tbody tr th {\n",
       "        vertical-align: top;\n",
       "    }\n",
       "\n",
       "    .dataframe thead th {\n",
       "        text-align: right;\n",
       "    }\n",
       "</style>\n",
       "<table border=\"1\" class=\"dataframe\">\n",
       "  <thead>\n",
       "    <tr style=\"text-align: right;\">\n",
       "      <th></th>\n",
       "      <th>sentence</th>\n",
       "      <th>label_desc</th>\n",
       "      <th>label</th>\n",
       "    </tr>\n",
       "  </thead>\n",
       "  <tbody>\n",
       "    <tr>\n",
       "      <th>0</th>\n",
       "      <td>- New forest hoping the walk would lose me som...</td>\n",
       "      <td>worry</td>\n",
       "      <td>6</td>\n",
       "    </tr>\n",
       "    <tr>\n",
       "      <th>1</th>\n",
       "      <td>youre not supposed to...</td>\n",
       "      <td>worry</td>\n",
       "      <td>6</td>\n",
       "    </tr>\n",
       "    <tr>\n",
       "      <th>2</th>\n",
       "      <td>I don't wanna go to work</td>\n",
       "      <td>sadness</td>\n",
       "      <td>4</td>\n",
       "    </tr>\n",
       "    <tr>\n",
       "      <th>3</th>\n",
       "      <td>i dont really have any details to share but i ...</td>\n",
       "      <td>joy</td>\n",
       "      <td>2</td>\n",
       "    </tr>\n",
       "    <tr>\n",
       "      <th>4</th>\n",
       "      <td>JB on the front of factor x!!!!! wooh contest ...</td>\n",
       "      <td>worry</td>\n",
       "      <td>6</td>\n",
       "    </tr>\n",
       "  </tbody>\n",
       "</table>\n",
       "</div>"
      ],
      "text/plain": [
       "                                            sentence label_desc  label\n",
       "0  - New forest hoping the walk would lose me som...      worry      6\n",
       "1                           youre not supposed to...      worry      6\n",
       "2                           I don't wanna go to work    sadness      4\n",
       "3  i dont really have any details to share but i ...        joy      2\n",
       "4  JB on the front of factor x!!!!! wooh contest ...      worry      6"
      ]
     },
     "execution_count": 21,
     "metadata": {},
     "output_type": "execute_result"
    }
   ],
   "source": [
    "df.rename(columns={'label': 'label_desc', 'label_enc': 'label'}, inplace=True)\n",
    "df.head()"
   ]
  },
  {
   "cell_type": "code",
   "execution_count": 22,
   "id": "de9de157",
   "metadata": {},
   "outputs": [],
   "source": [
    "from sklearn.model_selection import train_test_split\n",
    "sentences = df['sentence'].values\n",
    "labels = df['label'].values\n",
    "training_sentences, validation_sentences, training_labels, validation_labels = train_test_split(sentences, labels, random_state=41,test_size=0.1)"
   ]
  },
  {
   "cell_type": "code",
   "execution_count": 23,
   "id": "47633b30",
   "metadata": {},
   "outputs": [],
   "source": [
    "tokenizer = DistilBertTokenizerFast.from_pretrained('distilbert-base-uncased')"
   ]
  },
  {
   "cell_type": "code",
   "execution_count": 24,
   "id": "b2b1ee43",
   "metadata": {},
   "outputs": [
    {
     "data": {
      "text/plain": [
       "{'input_ids': [[101, 3666, 7097, 7808, 2208, 2487, 4826, 2305, 2065, 3087, 2003, 4699, 1010, 1998, 1045, 2113, 2008, 3904, 1997, 2017, 2024, 1012, 102]], 'attention_mask': [[1, 1, 1, 1, 1, 1, 1, 1, 1, 1, 1, 1, 1, 1, 1, 1, 1, 1, 1, 1, 1, 1, 1]]}"
      ]
     },
     "execution_count": 24,
     "metadata": {},
     "output_type": "execute_result"
    }
   ],
   "source": [
    "tokenizer([training_sentences[0]], truncation=True,\n",
    "                            padding=True, max_length=64)"
   ]
  },
  {
   "cell_type": "code",
   "execution_count": 25,
   "id": "478b3a76",
   "metadata": {},
   "outputs": [],
   "source": [
    "type(training_sentences)\n",
    "train_encodings = tokenizer(list(training_sentences),\n",
    "                            truncation=True,\n",
    "                            padding=True)\n",
    "val_encodings = tokenizer(list(validation_sentences),\n",
    "                            truncation=True,\n",
    "                            padding=True)"
   ]
  },
  {
   "cell_type": "code",
   "execution_count": 26,
   "id": "1f16f3a5",
   "metadata": {},
   "outputs": [],
   "source": [
    "train_dataset = tf.data.Dataset.from_tensor_slices((\n",
    "    dict(train_encodings),\n",
    "    training_labels\n",
    "))\n",
    "\n",
    "val_dataset = tf.data.Dataset.from_tensor_slices((\n",
    "    dict(val_encodings),\n",
    "    validation_labels\n",
    "))"
   ]
  },
  {
   "cell_type": "code",
   "execution_count": 27,
   "id": "3b1c17db",
   "metadata": {},
   "outputs": [
    {
     "name": "stdout",
     "output_type": "stream",
     "text": [
      "7 [6 4 2 1 0 3 5]\n"
     ]
    }
   ],
   "source": [
    "num_labels = len(df['label'].unique())\n",
    "print(num_labels, df['label'].unique())"
   ]
  },
  {
   "cell_type": "code",
   "execution_count": 28,
   "id": "2ecb1326",
   "metadata": {},
   "outputs": [
    {
     "name": "stderr",
     "output_type": "stream",
     "text": [
      "Some layers from the model checkpoint at distilbert-base-uncased were not used when initializing TFDistilBertForSequenceClassification: ['vocab_projector', 'activation_13', 'vocab_layer_norm', 'vocab_transform']\n",
      "- This IS expected if you are initializing TFDistilBertForSequenceClassification from the checkpoint of a model trained on another task or with another architecture (e.g. initializing a BertForSequenceClassification model from a BertForPreTraining model).\n",
      "- This IS NOT expected if you are initializing TFDistilBertForSequenceClassification from the checkpoint of a model that you expect to be exactly identical (initializing a BertForSequenceClassification model from a BertForSequenceClassification model).\n",
      "Some layers of TFDistilBertForSequenceClassification were not initialized from the model checkpoint at distilbert-base-uncased and are newly initialized: ['pre_classifier', 'dropout_19', 'classifier']\n",
      "You should probably TRAIN this model on a down-stream task to be able to use it for predictions and inference.\n"
     ]
    }
   ],
   "source": [
    "model = TFDistilBertForSequenceClassification.from_pretrained('distilbert-base-uncased',num_labels=num_labels)\n"
   ]
  },
  {
   "cell_type": "code",
   "execution_count": 30,
   "id": "497509ea",
   "metadata": {},
   "outputs": [
    {
     "name": "stdout",
     "output_type": "stream",
     "text": [
      "Epoch 1/9\n",
      "WARNING:tensorflow:The parameters `output_attentions`, `output_hidden_states` and `use_cache` cannot be updated when calling a model.They have to be set to True/False in the config object (i.e.: `config=XConfig.from_pretrained('name', output_attentions=True)`).\n",
      "WARNING:tensorflow:The parameter `return_dict` cannot be set in graph mode and will always be set to `True`.\n",
      "WARNING:tensorflow:The parameters `output_attentions`, `output_hidden_states` and `use_cache` cannot be updated when calling a model.They have to be set to True/False in the config object (i.e.: `config=XConfig.from_pretrained('name', output_attentions=True)`).\n",
      "WARNING:tensorflow:The parameter `return_dict` cannot be set in graph mode and will always be set to `True`.\n",
      "1095/1095 [==============================] - ETA: 0s - loss: 0.4111 - accuracy: 0.8492WARNING:tensorflow:The parameters `output_attentions`, `output_hidden_states` and `use_cache` cannot be updated when calling a model.They have to be set to True/False in the config object (i.e.: `config=XConfig.from_pretrained('name', output_attentions=True)`).\n",
      "WARNING:tensorflow:The parameter `return_dict` cannot be set in graph mode and will always be set to `True`.\n",
      "1095/1095 [==============================] - 3966s 4s/step - loss: 0.4111 - accuracy: 0.8492 - val_loss: 1.0618 - val_accuracy: 0.6589\n",
      "Epoch 2/9\n",
      "1095/1095 [==============================] - 3919s 4s/step - loss: 0.2794 - accuracy: 0.8993 - val_loss: 1.2386 - val_accuracy: 0.6735\n",
      "Epoch 3/9\n",
      "1095/1095 [==============================] - 3923s 4s/step - loss: 0.2032 - accuracy: 0.9278 - val_loss: 1.5146 - val_accuracy: 0.6702\n",
      "Epoch 4/9\n",
      "1095/1095 [==============================] - 3994s 4s/step - loss: 0.1568 - accuracy: 0.9448 - val_loss: 1.5518 - val_accuracy: 0.6717\n",
      "Epoch 5/9\n",
      "1095/1095 [==============================] - 3997s 4s/step - loss: 0.1176 - accuracy: 0.9593 - val_loss: 1.6894 - val_accuracy: 0.6663\n",
      "Epoch 6/9\n",
      "1095/1095 [==============================] - 4034s 4s/step - loss: 0.1021 - accuracy: 0.9661 - val_loss: 1.6338 - val_accuracy: 0.6522\n",
      "Epoch 7/9\n",
      "1095/1095 [==============================] - 3920s 4s/step - loss: 0.0851 - accuracy: 0.9718 - val_loss: 1.7739 - val_accuracy: 0.6658\n",
      "Epoch 8/9\n",
      "1095/1095 [==============================] - 3917s 4s/step - loss: 0.0778 - accuracy: 0.9733 - val_loss: 1.8886 - val_accuracy: 0.6573\n",
      "Epoch 9/9\n",
      "1095/1095 [==============================] - 3968s 4s/step - loss: 0.0695 - accuracy: 0.9772 - val_loss: 1.8451 - val_accuracy: 0.6596\n"
     ]
    },
    {
     "data": {
      "text/plain": [
       "<keras.callbacks.History at 0x7fd7d82f34c0>"
      ]
     },
     "execution_count": 30,
     "metadata": {},
     "output_type": "execute_result"
    }
   ],
   "source": [
    "optimizer = tf.keras.optimizers.Adam(learning_rate=5e-5, epsilon=1e-08)\n",
    "model.compile(optimizer=optimizer, loss=model.compute_loss, metrics=['accuracy'])\n",
    "model.fit(train_dataset.shuffle(100).batch(32),\n",
    "          epochs=2,\n",
    "          batch_size=32,\n",
    "          validation_data=val_dataset.shuffle(100).batch(32))"
   ]
  },
  {
   "cell_type": "code",
   "execution_count": 42,
   "id": "45f6ec73",
   "metadata": {},
   "outputs": [],
   "source": [
    "model_path = './new_BERT_model'\n",
    "# !mkdir -p {model_path}\n",
    "model.save_pretrained(model_path)"
   ]
  },
  {
   "cell_type": "code",
   "execution_count": 33,
   "id": "82f1cd7c",
   "metadata": {},
   "outputs": [
    {
     "name": "stderr",
     "output_type": "stream",
     "text": [
      "Some layers from the model checkpoint at ./new_BERT_model were not used when initializing TFDistilBertForSequenceClassification: ['dropout_19']\n",
      "- This IS expected if you are initializing TFDistilBertForSequenceClassification from the checkpoint of a model trained on another task or with another architecture (e.g. initializing a BertForSequenceClassification model from a BertForPreTraining model).\n",
      "- This IS NOT expected if you are initializing TFDistilBertForSequenceClassification from the checkpoint of a model that you expect to be exactly identical (initializing a BertForSequenceClassification model from a BertForSequenceClassification model).\n",
      "Some layers of TFDistilBertForSequenceClassification were not initialized from the model checkpoint at ./new_BERT_model and are newly initialized: ['dropout_39']\n",
      "You should probably TRAIN this model on a down-stream task to be able to use it for predictions and inference.\n"
     ]
    }
   ],
   "source": [
    "loaded_model = TFDistilBertForSequenceClassification.from_pretrained(model_path)"
   ]
  },
  {
   "cell_type": "code",
   "execution_count": 40,
   "id": "d0aa4b43",
   "metadata": {},
   "outputs": [
    {
     "name": "stdout",
     "output_type": "stream",
     "text": [
      "6\n"
     ]
    }
   ],
   "source": [
    "test_sentence = \"i can't understand you, idiot\"\n",
    "predict_input = tokenizer.encode(test_sentence,\n",
    "                                 truncation=True,\n",
    "                                 padding=True,\n",
    "                                 return_tensors=\"tf\")\n",
    "\n",
    "tf_output = loaded_model.predict(predict_input)[0]\n",
    "tf_prediction = tf.nn.softmax(tf_output, axis=1)\n",
    "labels = [0,1,2,3,4,5,6]\n",
    "label = tf.argmax(tf_prediction, axis=1)\n",
    "label = label.numpy()\n",
    "print(labels[label[0]])"
   ]
  },
  {
   "cell_type": "code",
   "execution_count": 36,
   "id": "626806ca",
   "metadata": {},
   "outputs": [
    {
     "data": {
      "text/html": [
       "<div>\n",
       "<style scoped>\n",
       "    .dataframe tbody tr th:only-of-type {\n",
       "        vertical-align: middle;\n",
       "    }\n",
       "\n",
       "    .dataframe tbody tr th {\n",
       "        vertical-align: top;\n",
       "    }\n",
       "\n",
       "    .dataframe thead th {\n",
       "        text-align: right;\n",
       "    }\n",
       "</style>\n",
       "<table border=\"1\" class=\"dataframe\">\n",
       "  <thead>\n",
       "    <tr style=\"text-align: right;\">\n",
       "      <th></th>\n",
       "      <th>label</th>\n",
       "      <th>label_desc</th>\n",
       "    </tr>\n",
       "  </thead>\n",
       "  <tbody>\n",
       "    <tr>\n",
       "      <th>0</th>\n",
       "      <td>6</td>\n",
       "      <td>worry</td>\n",
       "    </tr>\n",
       "    <tr>\n",
       "      <th>2</th>\n",
       "      <td>4</td>\n",
       "      <td>sadness</td>\n",
       "    </tr>\n",
       "    <tr>\n",
       "      <th>3</th>\n",
       "      <td>2</td>\n",
       "      <td>joy</td>\n",
       "    </tr>\n",
       "    <tr>\n",
       "      <th>5</th>\n",
       "      <td>1</td>\n",
       "      <td>fear</td>\n",
       "    </tr>\n",
       "    <tr>\n",
       "      <th>7</th>\n",
       "      <td>0</td>\n",
       "      <td>anger</td>\n",
       "    </tr>\n",
       "    <tr>\n",
       "      <th>10</th>\n",
       "      <td>3</td>\n",
       "      <td>love</td>\n",
       "    </tr>\n",
       "    <tr>\n",
       "      <th>26</th>\n",
       "      <td>5</td>\n",
       "      <td>surprise</td>\n",
       "    </tr>\n",
       "  </tbody>\n",
       "</table>\n",
       "</div>"
      ],
      "text/plain": [
       "    label label_desc\n",
       "0       6      worry\n",
       "2       4    sadness\n",
       "3       2        joy\n",
       "5       1       fear\n",
       "7       0      anger\n",
       "10      3       love\n",
       "26      5   surprise"
      ]
     },
     "execution_count": 36,
     "metadata": {},
     "output_type": "execute_result"
    }
   ],
   "source": [
    "df[['label','label_desc']].drop_duplicates(keep='first')"
   ]
  },
  {
   "cell_type": "code",
   "execution_count": 44,
   "id": "4999520f",
   "metadata": {},
   "outputs": [],
   "source": [
    "from sklearn.metrics import accuracy_score, confusion_matrix, classification_report\n",
    "pred = []\n",
    "for text in validation_sentences:\n",
    "    pred_input = tokenizer.encode(text,\n",
    "                                 truncation=True,\n",
    "                                 padding=True,\n",
    "                                 return_tensors=\"tf\")\n",
    "    tf_output = loaded_model.predict(pred_input)[0]\n",
    "    tf_prediction = tf.nn.softmax(tf_output, axis=1)\n",
    "    labels = [0,1,2,3,4,5,6] # for some reason this needs to be in order and not in random order! \n",
    "    #print(labels)\n",
    "    label = tf.argmax(tf_prediction, axis=1)\n",
    "    label = label.numpy()\n",
    "    pred.append(labels[label[0]])\n",
    "    \n",
    "\n",
    "    \n",
    "    \n"
   ]
  },
  {
   "cell_type": "code",
   "execution_count": 45,
   "id": "ab35e29a",
   "metadata": {},
   "outputs": [
    {
     "name": "stdout",
     "output_type": "stream",
     "text": [
      "              precision    recall  f1-score   support\n",
      "\n",
      "           0       0.86      0.87      0.87       422\n",
      "           1       0.86      0.84      0.85       465\n",
      "           2       0.71      0.66      0.68       644\n",
      "           3       0.62      0.61      0.62       530\n",
      "           4       0.72      0.59      0.65       685\n",
      "           5       0.38      0.34      0.36       300\n",
      "           6       0.52      0.66      0.59       844\n",
      "\n",
      "    accuracy                           0.66      3890\n",
      "   macro avg       0.67      0.65      0.66      3890\n",
      "weighted avg       0.67      0.66      0.66      3890\n",
      "\n"
     ]
    }
   ],
   "source": [
    "print(classification_report(validation_labels, pred))"
   ]
  },
  {
   "cell_type": "code",
   "execution_count": 83,
   "id": "a886836b",
   "metadata": {},
   "outputs": [
    {
     "name": "stdout",
     "output_type": "stream",
     "text": [
      "[4 3 0 2 1 5]\n",
      "[4 2 3 4 2 2 4 4 4 2]\n",
      "[4, 1, 2, 5, 1, 5, 3, 1, 1, 0]\n",
      "0    742\n",
      "1    568\n",
      "4    283\n",
      "3    215\n",
      "2    132\n",
      "5     60\n",
      "Name: a, dtype: int64\n",
      "2    723\n",
      "4    577\n",
      "0    291\n",
      "1    198\n",
      "3    147\n",
      "5     64\n",
      "Name: a, dtype: int64\n"
     ]
    }
   ],
   "source": [
    "print(df['label'].unique())\n",
    "print(validation_labels[:10])\n",
    "print(pred[:10])\n",
    "df['label'].unique()\n",
    "pred = np.array(pred)\n",
    "pred = pd.DataFrame(pred, columns=['a'])\n",
    "print(pred.a.value_counts())\n",
    "val = np.array(validation_labels)\n",
    "val = pd.DataFrame(val, columns=['a'])\n",
    "print(val.a.value_counts())"
   ]
  },
  {
   "cell_type": "code",
   "execution_count": 113,
   "id": "f15c593a",
   "metadata": {
    "scrolled": true
   },
   "outputs": [
    {
     "data": {
      "image/png": "[encoded data removed]",
      "text/plain": [
       "<Figure size 432x288 with 1 Axes>"
      ]
     },
     "metadata": {
      "needs_background": "light"
     },
     "output_type": "display_data"
    }
   ],
   "source": [
    "import matplotlib.pyplot as plt\n",
    "import seaborn as sns\n",
    "labels=np.array(['anger', 'fear', 'joy', 'love', 'sadness', 'surprise'])\n",
    "stats = [5, 0, 2, 1, 4, 1]\n",
    "angles=np.linspace(0, 2*np.pi, len(labels), endpoint=False)\n",
    "# angles=np.concatenate((angles,[angles[0]]))\n",
    "\n",
    "fig=plt.figure()\n",
    "ax = fig.add_subplot(111, polar=True)\n",
    "ax.plot(angles, stats, 'o-', linewidth=2)\n",
    "ax.fill(angles, stats, alpha=0.25)\n",
    "ax.set_thetagrids(angles * 180/np.pi, labels)\n",
    "ax.set_title('Personality Report')\n",
    "ax.grid(True)\n",
    "fig.savefig('./fig.png')"
   ]
  },
  {
   "cell_type": "code",
   "execution_count": null,
   "id": "1455d3df",
   "metadata": {},
   "outputs": [],
   "source": []
  }
 ],
 "metadata": {
  "kernelspec": {
   "display_name": "Python 3",
   "language": "python",
   "name": "python3"
  },
  "language_info": {
   "codemirror_mode": {
    "name": "ipython",
    "version": 3
   },
   "file_extension": ".py",
   "mimetype": "text/x-python",
   "name": "python",
   "nbconvert_exporter": "python",
   "pygments_lexer": "ipython3",
   "version": "3.8.8"
  }
 },
 "nbformat": 4,
 "nbformat_minor": 5
}
